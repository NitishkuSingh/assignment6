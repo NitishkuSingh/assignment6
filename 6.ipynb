{
 "cells": [
  {
   "cell_type": "markdown",
   "id": "f166316c-12cd-458b-85f4-18dd8e4ddc2a",
   "metadata": {},
   "source": [
    "Question 1"
   ]
  },
  {
   "cell_type": "code",
   "execution_count": 1,
   "id": "0368a2c4-624b-48c8-9375-01599ca03860",
   "metadata": {},
   "outputs": [
    {
     "name": "stdin",
     "output_type": "stream",
     "text": [
      "Enter the subject No:   56\n"
     ]
    },
    {
     "name": "stdout",
     "output_type": "stream",
     "text": [
      "D\n"
     ]
    }
   ],
   "source": [
    "mark=int(input(\"Enter the subject No:  \"))\n",
    "if mark >90:\n",
    "    print(\"A\")\n",
    "elif mark >80 and mark <=90:\n",
    "    print(\"B\")\n",
    "elif mark >=60 and mark <=80:\n",
    "    print(\"C\")\n",
    "else:\n",
    "    print(\"D\")"
   ]
  },
  {
   "cell_type": "markdown",
   "id": "72af1868-9f3f-4ef3-94f4-f01e788fe978",
   "metadata": {},
   "source": [
    "Question -2"
   ]
  },
  {
   "cell_type": "code",
   "execution_count": 2,
   "id": "2c4ac495-252a-430f-b844-dce52bf99e99",
   "metadata": {},
   "outputs": [
    {
     "name": "stdin",
     "output_type": "stream",
     "text": [
      "Enter the cost price of the bike (in Rs) :  60000\n"
     ]
    },
    {
     "name": "stdout",
     "output_type": "stream",
     "text": [
      "The road tax to be paid is Rs  6000.0\n"
     ]
    }
   ],
   "source": [
    "def calculate_road_tax(cost_price):\n",
    "    if cost_price <=50000:\n",
    "        road_tax=cast_price*0.05\n",
    "    elif cost_price <=100000:\n",
    "        road_tax=cost_price*0.1\n",
    "    else:\n",
    "        road_tax=cost_cost_price*0.15\n",
    "    return road_tax\n",
    "cost_price=float(input(\"Enter the cost price of the bike (in Rs) : \"))\n",
    "road_tax= calculate_road_tax(cost_price)\n",
    "print(\"The road tax to be paid is Rs \",road_tax)"
   ]
  },
  {
   "cell_type": "markdown",
   "id": "5345d9c5-ad3d-4f2c-8c81-57596db31477",
   "metadata": {},
   "source": [
    "Question -3 "
   ]
  },
  {
   "cell_type": "code",
   "execution_count": 3,
   "id": "dba6c7e1-4ab6-43d6-9873-fa543d0d416f",
   "metadata": {},
   "outputs": [
    {
     "name": "stdin",
     "output_type": "stream",
     "text": [
      "Enter the name of the city :  delhi\n"
     ]
    },
    {
     "name": "stdout",
     "output_type": "stream",
     "text": [
      "The monument in delhi is Red Fort\n"
     ]
    }
   ],
   "source": [
    "def display_monuments(city):\n",
    "    monuments={'delhi':'Red Fort',\n",
    "              'Agra':'Taj Mahal',\n",
    "              'Jaipur':'Jal Mahal'}\n",
    "    if city in monuments:\n",
    "        print(f\"The monument in {city} is {monuments[city]}\")\n",
    "    else:\n",
    "        print(\"Sorry ,we don't have information about monuments in that city. \")\n",
    "\n",
    "city =input(\"Enter the name of the city : \")\n",
    "display_monuments(city)"
   ]
  },
  {
   "cell_type": "markdown",
   "id": "403ab061-ca74-4825-bbfc-c2c10ba55a42",
   "metadata": {},
   "source": [
    "Question 3"
   ]
  },
  {
   "cell_type": "code",
   "execution_count": 4,
   "id": "57c8f709-a9a0-44d6-803b-d5002f916869",
   "metadata": {},
   "outputs": [
    {
     "name": "stdout",
     "output_type": "stream",
     "text": [
      "The number 100 can be divided by 3 3 times before it is less than or equal to 10.\n"
     ]
    }
   ],
   "source": [
    "def times_divisible_by_3(num):\n",
    "    count = 0\n",
    "    while num > 10:\n",
    "        num /= 3\n",
    "        count += 1\n",
    "    return count\n",
    "\n",
    "# Example usage:\n",
    "number = 100\n",
    "result = times_divisible_by_3(number)\n",
    "print(\"The number\", number, \"can be divided by 3\", result, \"times before it is less than or equal to 10.\")"
   ]
  },
  {
   "cell_type": "markdown",
   "id": "5c68c6f0-24d7-4b6e-a5f7-22e4ea92da8d",
   "metadata": {},
   "source": [
    "Question -4"
   ]
  },
  {
   "cell_type": "code",
   "execution_count": 5,
   "id": "5cc76ea7-5bc4-4907-a07c-7b4f5e342aa1",
   "metadata": {},
   "outputs": [
    {
     "name": "stdout",
     "output_type": "stream",
     "text": [
      "The sum of numbers from 1 to 100 is: 5050\n"
     ]
    }
   ],
   "source": [
    "total = 0\n",
    "current_number = 1\n",
    "while current_number <= 100:\n",
    "    total += current_number\n",
    "    current_number += 1\n",
    "print(\"The sum of numbers from 1 to 100 is:\", total)"
   ]
  },
  {
   "cell_type": "markdown",
   "id": "8070b68d-6b66-4d95-8bf0-c96e3f2c0565",
   "metadata": {},
   "source": [
    "Question - 5"
   ]
  },
  {
   "cell_type": "code",
   "execution_count": 6,
   "id": "c24fd092-cff2-45cd-80ee-d080aebe44b3",
   "metadata": {},
   "outputs": [
    {
     "name": "stdout",
     "output_type": "stream",
     "text": [
      "Pattern 1: Right Triangle Pattern\n",
      "* \n",
      "* * \n",
      "* * * \n",
      "* * * * \n",
      "* * * * * \n",
      "\n",
      "Pattern 2: Square Pattern\n",
      "* * * * * \n",
      "* * * * * \n",
      "* * * * * \n",
      "* * * * * \n",
      "* * * * * \n",
      "\n",
      "Pattern 3: Diamond Pattern\n",
      "        * \n",
      "      * * * \n",
      "    * * * * * \n",
      "  * * * * * * * \n",
      "* * * * * * * * * \n",
      "  * * * * * * * \n",
      "    * * * * * \n",
      "      * * * \n",
      "        * \n"
     ]
    }
   ],
   "source": [
    "# Pattern 1: Right Triangle Pattern\n",
    "print(\"Pattern 1: Right Triangle Pattern\")\n",
    "row = 1\n",
    "while row <= 5:\n",
    "    col = 1\n",
    "    while col <= row:\n",
    "        print(\"*\", end=\" \")\n",
    "        col += 1\n",
    "    print()\n",
    "    row += 1\n",
    "\n",
    "# Pattern 2: Square Pattern\n",
    "print(\"\\nPattern 2: Square Pattern\")\n",
    "row = 1\n",
    "while row <= 5:\n",
    "    col = 1\n",
    "    while col <= 5:\n",
    "        print(\"*\", end=\" \")\n",
    "        col += 1\n",
    "    print()\n",
    "    row += 1\n",
    "\n",
    "# Pattern 3: Diamond Pattern\n",
    "print(\"\\nPattern 3: Diamond Pattern\")\n",
    "row = 1\n",
    "while row <= 5:\n",
    "    col = 1\n",
    "    while col <= 5 - row:\n",
    "        print(\" \", end=\" \")\n",
    "        col += 1\n",
    "    col = 1\n",
    "    while col <= 2 * row - 1:\n",
    "        print(\"*\", end=\" \")\n",
    "        col += 1\n",
    "    print()\n",
    "    row += 1\n",
    "row = 4\n",
    "while row >= 1:\n",
    "    col = 1\n",
    "    while col <= 5 - row:\n",
    "        print(\" \", end=\" \")\n",
    "        col += 1\n",
    "    col = 1\n",
    "    while col <= 2 * row - 1:\n",
    "        print(\"*\", end=\" \")\n",
    "        col += 1\n",
    "    print()\n",
    "    row -= 1"
   ]
  },
  {
   "cell_type": "markdown",
   "id": "5a686fb0-a809-422f-ba2f-a9f438db230e",
   "metadata": {},
   "source": [
    "Question - 6"
   ]
  },
  {
   "cell_type": "code",
   "execution_count": 7,
   "id": "c957e7fa-346a-4680-b5f3-32069fe51c87",
   "metadata": {},
   "outputs": [
    {
     "name": "stdout",
     "output_type": "stream",
     "text": [
      "10\n",
      "9\n",
      "8\n",
      "7\n",
      "6\n",
      "5\n",
      "4\n",
      "3\n",
      "2\n",
      "1\n"
     ]
    }
   ],
   "source": [
    "num = 10\n",
    "while num >= 1:\n",
    "    print(num)\n",
    "    num -= 1\n"
   ]
  },
  {
   "cell_type": "code",
   "execution_count": null,
   "id": "3731a8c4-68ea-4276-8f37-4ce21ddb683c",
   "metadata": {},
   "outputs": [],
   "source": []
  }
 ],
 "metadata": {
  "kernelspec": {
   "display_name": "Python 3 (ipykernel)",
   "language": "python",
   "name": "python3"
  },
  "language_info": {
   "codemirror_mode": {
    "name": "ipython",
    "version": 3
   },
   "file_extension": ".py",
   "mimetype": "text/x-python",
   "name": "python",
   "nbconvert_exporter": "python",
   "pygments_lexer": "ipython3",
   "version": "3.10.8"
  }
 },
 "nbformat": 4,
 "nbformat_minor": 5
}
